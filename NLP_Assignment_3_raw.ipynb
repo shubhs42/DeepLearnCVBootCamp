{
  "cells": [
    {
      "cell_type": "markdown",
      "metadata": {
        "id": "view-in-github",
        "colab_type": "text"
      },
      "source": [
        "<a href=\"https://colab.research.google.com/github/shubhs42/DeepLearnCVBootCamp/blob/main/NLP_Assignment_3_raw.ipynb\" target=\"_parent\"><img src=\"https://colab.research.google.com/assets/colab-badge.svg\" alt=\"Open In Colab\"/></a>"
      ]
    },
    {
      "cell_type": "markdown",
      "metadata": {
        "id": "omRTOvVIw1UD"
      },
      "source": [
        "# NLP Assignment 3: Sentiment Classification using RNNs & LSTMs\n",
        "\n",
        "---\n",
        "\n",
        "## Table of Contents\n",
        "1. [Setup & Installation](#setup)\n",
        "2. [Data Loading & Exploration](#data)\n",
        "3. [Data Preprocessing](#preprocessing)\n",
        "4. [Model Building](#models)\n",
        "5. [Training](#training)\n",
        "6. [Evaluation & Comparison](#evaluation)\n",
        "7. [Ensemble Implementation](#ensemble)\n",
        "8. [Results & Discussion](#discussion)\n",
        "\n",
        "---"
      ]
    },
    {
      "cell_type": "markdown",
      "metadata": {
        "id": "G6b5my-lw1UI"
      },
      "source": [
        "## 1. Setup & Installation <a id='setup'></a>\n",
        "\n",
        "First, we'll install required packages and configure GPU settings."
      ]
    },
    {
      "cell_type": "code",
      "execution_count": null,
      "metadata": {
        "colab": {
          "base_uri": "https://localhost:8080/"
        },
        "id": "mdZ3e3lMw1UJ",
        "outputId": "f9dd1d4f-9be1-472c-b85c-c74c718f8672"
      },
      "outputs": [
        {
          "output_type": "stream",
          "name": "stdout",
          "text": [
            "Libraries imported successfully!\n",
            "TensorFlow version: 2.19.0\n"
          ]
        }
      ],
      "source": [
        "# Install required packages\n",
        "!pip install gdown -q\n",
        "\n",
        "# Import libraries\n",
        "import numpy as np\n",
        "import pandas as pd\n",
        "import matplotlib.pyplot as plt\n",
        "import seaborn as sns\n",
        "import re\n",
        "import warnings\n",
        "warnings.filterwarnings('ignore')\n",
        "\n",
        "# Deep learning libraries\n",
        "import tensorflow as tf\n",
        "from tensorflow import keras\n",
        "from tensorflow.keras.models import Sequential\n",
        "from tensorflow.keras.layers import Embedding, LSTM, Dense, Dropout, SimpleRNN, Bidirectional\n",
        "from tensorflow.keras.preprocessing.text import Tokenizer\n",
        "from tensorflow.keras.preprocessing.sequence import pad_sequences\n",
        "from tensorflow.keras.callbacks import EarlyStopping, ReduceLROnPlateau\n",
        "\n",
        "# Machine learning utilities\n",
        "from sklearn.model_selection import train_test_split\n",
        "from sklearn.metrics import accuracy_score, precision_score, recall_score, f1_score\n",
        "from sklearn.metrics import confusion_matrix, classification_report\n",
        "\n",
        "# Set random seeds for reproducibility\n",
        "np.random.seed(42)\n",
        "tf.random.set_seed(42)\n",
        "\n",
        "print(\"Libraries imported successfully!\")\n",
        "print(f\"TensorFlow version: {tf.__version__}\")"
      ]
    },
    {
      "cell_type": "code",
      "execution_count": null,
      "metadata": {
        "colab": {
          "base_uri": "https://localhost:8080/"
        },
        "id": "HmWuvPFKw1UK",
        "outputId": "28c649fa-517a-4568-9ee5-c5f35f0f3a88"
      },
      "outputs": [
        {
          "output_type": "stream",
          "name": "stdout",
          "text": [
            "GPUs Available: 1\n",
            "GPU Details:\n",
            "  - PhysicalDevice(name='/physical_device:GPU:0', device_type='GPU')\n",
            "\n",
            "✓ GPU is available and will be used for training!\n"
          ]
        }
      ],
      "source": [
        "# Configure GPU (run this FIRST before any TensorFlow operations)\n",
        "gpus = tf.config.list_physical_devices('GPU')\n",
        "print(f\"GPUs Available: {len(gpus)}\")\n",
        "\n",
        "if gpus:\n",
        "    print(\"GPU Details:\")\n",
        "    for gpu in gpus:\n",
        "        print(f\"  - {gpu}\")\n",
        "    print(\"\\n✓ GPU is available and will be used for training!\")\n",
        "else:\n",
        "    print(\"⚠ No GPU detected. Training will use CPU (slower).\")"
      ]
    },
    {
      "cell_type": "markdown",
      "metadata": {
        "id": "aY6-8Pupw1UL"
      },
      "source": [
        "## 2. Data Loading & Exploration <a id='data'></a>\n",
        "\n",
        "We'll download the sentiment dataset and explore its structure."
      ]
    },
    {
      "cell_type": "code",
      "execution_count": null,
      "metadata": {
        "colab": {
          "base_uri": "https://localhost:8080/"
        },
        "id": "uLQfnbmhw1UM",
        "outputId": "8c7a0688-2ab2-4f96-cfa9-3c039b609ebd"
      },
      "outputs": [
        {
          "output_type": "stream",
          "name": "stdout",
          "text": [
            "Downloading...\n",
            "From: https://drive.google.com/uc?id=1A8mqzrqeTUj8Rbh52w0mru_GxONjHVJv\n",
            "To: /content/reviews_dataset.csv\n",
            "100% 66.2M/66.2M [00:00<00:00, 173MB/s]\n",
            "\n",
            "Dataset downloaded successfully!\n",
            "-rw-r--r-- 1 root root 64M Jan  3  2025 reviews_dataset.csv\n"
          ]
        }
      ],
      "source": [
        "# Download dataset from Google Drive\n",
        "file_id = \"1A8mqzrqeTUj8Rbh52w0mru_GxONjHVJv\"\n",
        "output_name = \"reviews_dataset.csv\"\n",
        "\n",
        "!gdown {file_id} -O {output_name}\n",
        "\n",
        "print(\"\\nDataset downloaded successfully!\")\n",
        "!ls -lh reviews_dataset.csv"
      ]
    },
    {
      "cell_type": "code",
      "execution_count": null,
      "metadata": {
        "colab": {
          "base_uri": "https://localhost:8080/"
        },
        "id": "7iaSQ5e-w1UN",
        "outputId": "bedd453b-b461-4f2c-d6d2-36ae3d70abd2"
      },
      "outputs": [
        {
          "output_type": "stream",
          "name": "stdout",
          "text": [
            "Dataset Shape: (50000, 2)\n",
            "\n",
            "Column Names: ['review', 'sentiment']\n",
            "\n",
            "First 3 reviews:\n",
            "                                              review sentiment\n",
            "0  One of the other reviewers has mentioned that ...  positive\n",
            "1  A wonderful little production. <br /><br />The...  positive\n",
            "2  I thought this was a wonderful way to spend ti...  positive\n",
            "\n",
            "Dataset Info:\n",
            "<class 'pandas.core.frame.DataFrame'>\n",
            "RangeIndex: 50000 entries, 0 to 49999\n",
            "Data columns (total 2 columns):\n",
            " #   Column     Non-Null Count  Dtype \n",
            "---  ------     --------------  ----- \n",
            " 0   review     50000 non-null  object\n",
            " 1   sentiment  50000 non-null  object\n",
            "dtypes: object(2)\n",
            "memory usage: 781.4+ KB\n",
            "None\n"
          ]
        }
      ],
      "source": [
        "# Load the dataset\n",
        "df = pd.read_csv('reviews_dataset.csv')\n",
        "\n",
        "# Display basic information\n",
        "print(\"Dataset Shape:\", df.shape)\n",
        "print(\"\\nColumn Names:\", df.columns.tolist())\n",
        "print(\"\\nFirst 3 reviews:\")\n",
        "print(df.head(3))\n",
        "print(\"\\nDataset Info:\")\n",
        "print(df.info())"
      ]
    },
    {
      "cell_type": "code",
      "execution_count": null,
      "metadata": {
        "colab": {
          "base_uri": "https://localhost:8080/",
          "height": 715
        },
        "id": "YHYaiNCYw1UN",
        "outputId": "4e2ef791-83eb-4b8e-cad0-3923800eb15f"
      },
      "outputs": [
        {
          "output_type": "stream",
          "name": "stdout",
          "text": [
            "Missing Values:\n",
            "review       0\n",
            "sentiment    0\n",
            "dtype: int64\n",
            "\n",
            "Sentiment Distribution:\n",
            "sentiment\n",
            "positive    25000\n",
            "negative    25000\n",
            "Name: count, dtype: int64\n"
          ]
        },
        {
          "output_type": "display_data",
          "data": {
            "text/plain": [
              "<Figure size 800x500 with 1 Axes>"
            ],
            "image/png": "[encoded data removed]"
          },
          "metadata": {}
        },
        {
          "output_type": "stream",
          "name": "stdout",
          "text": [
            "\n",
            "✓ Dataset is balanced!\n"
          ]
        }
      ],
      "source": [
        "# Check for missing values\n",
        "print(\"Missing Values:\")\n",
        "print(df.isnull().sum())\n",
        "\n",
        "# Check sentiment distribution\n",
        "print(\"\\nSentiment Distribution:\")\n",
        "print(df['sentiment'].value_counts())\n",
        "\n",
        "# Visualize sentiment distribution\n",
        "plt.figure(figsize=(8, 5))\n",
        "df['sentiment'].value_counts().plot(kind='bar', color=['#e74c3c', '#2ecc71'])\n",
        "plt.title('Sentiment Distribution', fontsize=14, fontweight='bold')\n",
        "plt.xlabel('Sentiment')\n",
        "plt.ylabel('Count')\n",
        "plt.xticks(rotation=0)\n",
        "plt.tight_layout()\n",
        "plt.show()\n",
        "\n",
        "print(\"\\n✓ Dataset is balanced!\")"
      ]
    },
    {
      "cell_type": "code",
      "execution_count": null,
      "metadata": {
        "colab": {
          "base_uri": "https://localhost:8080/",
          "height": 533
        },
        "id": "audylJqfw1UO",
        "outputId": "a876b889-2298-480e-fed2-90006f800e07"
      },
      "outputs": [
        {
          "output_type": "stream",
          "name": "stdout",
          "text": [
            "Review Length Statistics:\n",
            "count    50000.000000\n",
            "mean       231.156940\n",
            "std        171.343997\n",
            "min          4.000000\n",
            "25%        126.000000\n",
            "50%        173.000000\n",
            "75%        280.000000\n",
            "max       2470.000000\n",
            "Name: review_length, dtype: float64\n"
          ]
        },
        {
          "output_type": "display_data",
          "data": {
            "text/plain": [
              "<Figure size 1200x500 with 2 Axes>"
            ],
            "image/png": "[encoded data removed]"
          },
          "metadata": {}
        }
      ],
      "source": [
        "# Analyze review lengths\n",
        "df['review_length'] = df['review'].apply(lambda x: len(x.split()))\n",
        "\n",
        "print(\"Review Length Statistics:\")\n",
        "print(df['review_length'].describe())\n",
        "\n",
        "# Visualize review length distribution\n",
        "plt.figure(figsize=(12, 5))\n",
        "\n",
        "plt.subplot(1, 2, 1)\n",
        "plt.hist(df['review_length'], bins=50, edgecolor='black', color='skyblue')\n",
        "plt.xlabel('Number of Words')\n",
        "plt.ylabel('Frequency')\n",
        "plt.title('Distribution of Review Lengths')\n",
        "plt.axvline(df['review_length'].mean(), color='red', linestyle='--', label=f'Mean: {df[\"review_length\"].mean():.0f}')\n",
        "plt.axvline(df['review_length'].median(), color='green', linestyle='--', label=f'Median: {df[\"review_length\"].median():.0f}')\n",
        "plt.legend()\n",
        "\n",
        "plt.subplot(1, 2, 2)\n",
        "plt.boxplot(df['review_length'], vert=True)\n",
        "plt.ylabel('Number of Words')\n",
        "plt.title('Review Length Box Plot')\n",
        "\n",
        "plt.tight_layout()\n",
        "plt.show()"
      ]
    },
    {
      "cell_type": "markdown",
      "metadata": {
        "id": "ZjuWCvQ9w1UP"
      },
      "source": [
        "## 3. Data Preprocessing <a id='preprocessing'></a>\n",
        "\n",
        "We'll clean the text data, tokenize, build vocabulary, and prepare sequences for model training."
      ]
    },
    {
      "cell_type": "code",
      "execution_count": null,
      "metadata": {
        "colab": {
          "base_uri": "https://localhost:8080/"
        },
        "id": "yPF0DJOow1UP",
        "outputId": "dfd88b03-fff7-4676-aeb7-449f678fe095"
      },
      "outputs": [
        {
          "output_type": "stream",
          "name": "stdout",
          "text": [
            "Cleaning text data...\n",
            "\n",
            "Example of text cleaning:\n",
            "\n",
            "Original:\n",
            "One of the other reviewers has mentioned that after watching just 1 Oz episode you'll be hooked. They are right, as this is exactly what happened with me.<br /><br />The first thing that struck me abo\n",
            "\n",
            "Cleaned:\n",
            "one of the other reviewers has mentioned that after watching just oz episode youll be hooked they are right as this is exactly what happened with me the first thing that struck me about oz was its bru\n",
            "\n",
            "✓ Text cleaning completed!\n"
          ]
        }
      ],
      "source": [
        "# Text cleaning function\n",
        "def clean_text(text):\n",
        "    \"\"\"\n",
        "    Clean and preprocess text data:\n",
        "    - Convert to lowercase\n",
        "    - Remove HTML tags\n",
        "    - Remove special characters and numbers\n",
        "    - Remove extra whitespace\n",
        "    \"\"\"\n",
        "    # Convert to lowercase\n",
        "    text = text.lower()\n",
        "\n",
        "    # Remove HTML tags\n",
        "    text = re.sub(r'<br />', ' ', text)\n",
        "    text = re.sub(r'<.*?>', '', text)\n",
        "\n",
        "    # Remove special characters and numbers (keep only letters and spaces)\n",
        "    text = re.sub(r'[^a-z\\s]', '', text)\n",
        "\n",
        "    # Remove extra whitespace\n",
        "    text = re.sub(r'\\s+', ' ', text).strip()\n",
        "\n",
        "    return text\n",
        "\n",
        "# Apply cleaning to reviews\n",
        "print(\"Cleaning text data...\")\n",
        "df['cleaned_review'] = df['review'].apply(clean_text)\n",
        "\n",
        "# Show examples of cleaned text\n",
        "print(\"\\nExample of text cleaning:\")\n",
        "print(\"\\nOriginal:\")\n",
        "print(df['review'].iloc[0][:200])\n",
        "print(\"\\nCleaned:\")\n",
        "print(df['cleaned_review'].iloc[0][:200])\n",
        "\n",
        "print(\"\\n✓ Text cleaning completed!\")"
      ]
    },
    {
      "cell_type": "code",
      "execution_count": null,
      "metadata": {
        "colab": {
          "base_uri": "https://localhost:8080/"
        },
        "id": "CnsfwXTjw1UQ",
        "outputId": "e7b5e338-1dbd-48c3-81ae-7735b44fcf1a"
      },
      "outputs": [
        {
          "output_type": "stream",
          "name": "stdout",
          "text": [
            "Label Distribution:\n",
            "label\n",
            "1    25000\n",
            "0    25000\n",
            "Name: count, dtype: int64\n",
            "\n",
            "✓ Labels converted to numeric format!\n"
          ]
        }
      ],
      "source": [
        "# Convert sentiment labels to numeric (0 = negative, 1 = positive)\n",
        "df['label'] = df['sentiment'].map({'negative': 0, 'positive': 1})\n",
        "\n",
        "print(\"Label Distribution:\")\n",
        "print(df['label'].value_counts())\n",
        "print(\"\\n✓ Labels converted to numeric format!\")"
      ]
    },
    {
      "cell_type": "code",
      "execution_count": null,
      "metadata": {
        "colab": {
          "base_uri": "https://localhost:8080/"
        },
        "id": "mwIuH6HJw1UQ",
        "outputId": "48ccb4d8-245b-4954-af9b-3dac72a1827e"
      },
      "outputs": [
        {
          "output_type": "stream",
          "name": "stdout",
          "text": [
            "Building vocabulary with top 10000 words...\n",
            "Sequence length: 200 words\n",
            "\n",
            "Vocabulary size: 162288\n",
            "Using top 10000 words\n",
            "Shape of X (sequences): (50000, 200)\n",
            "Shape of y (labels): (50000,)\n",
            "\n",
            "Example sequence (first review, first 30 tokens):\n",
            "[  28    5    2   76 1929   45 1056   12  101  144   40 3246  388  468\n",
            "   26 3105   34   23  202   14   11    7  599   48  576   15   69    2\n",
            "   88  146]\n",
            "\n",
            "✓ Tokenization and padding completed!\n"
          ]
        }
      ],
      "source": [
        "# Tokenization and Vocabulary Building\n",
        "MAX_WORDS = 10000  # Keep top 10,000 most frequent words\n",
        "MAX_LEN = 100      # Pad/truncate sequences to 200 words\n",
        "\n",
        "print(f\"Building vocabulary with top {MAX_WORDS} words...\")\n",
        "print(f\"Sequence length: {MAX_LEN} words\\n\")\n",
        "\n",
        "# Create tokenizer\n",
        "tokenizer = Tokenizer(num_words=MAX_WORDS, oov_token='<OOV>')\n",
        "tokenizer.fit_on_texts(df['cleaned_review'])\n",
        "\n",
        "# Convert text to sequences\n",
        "sequences = tokenizer.texts_to_sequences(df['cleaned_review'])\n",
        "\n",
        "# Pad sequences to equal length\n",
        "X = pad_sequences(sequences, maxlen=MAX_LEN, padding='post', truncating='post')\n",
        "\n",
        "# Get labels\n",
        "y = df['label'].values\n",
        "\n",
        "# Display information\n",
        "print(f\"Vocabulary size: {len(tokenizer.word_index)}\")\n",
        "print(f\"Using top {MAX_WORDS} words\")\n",
        "print(f\"Shape of X (sequences): {X.shape}\")\n",
        "print(f\"Shape of y (labels): {y.shape}\")\n",
        "print(f\"\\nExample sequence (first review, first 30 tokens):\")\n",
        "print(X[0][:30])\n",
        "\n",
        "print(\"\\n✓ Tokenization and padding completed!\")"
      ]
    },
    {
      "cell_type": "code",
      "execution_count": null,
      "metadata": {
        "colab": {
          "base_uri": "https://localhost:8080/"
        },
        "id": "OPhFkxNnw1UR",
        "outputId": "562e73d7-34bd-4034-9c02-6c580ca2be4f"
      },
      "outputs": [
        {
          "output_type": "stream",
          "name": "stdout",
          "text": [
            "Splitting dataset...\n",
            "\n",
            "Train set: 30,000 samples (60.0%)\n",
            "Validation set: 10,000 samples (20.0%)\n",
            "Test set: 10,000 samples (20.0%)\n",
            "\n",
            "✓ Data split completed!\n"
          ]
        }
      ],
      "source": [
        "# Train/Validation/Test Split\n",
        "# Split: 60% train, 20% validation, 20% test\n",
        "\n",
        "print(\"Splitting dataset...\\n\")\n",
        "\n",
        "# First split: 80% train+val, 20% test\n",
        "X_temp, X_test, y_temp, y_test = train_test_split(\n",
        "    X, y, test_size=0.2, random_state=42, stratify=y\n",
        ")\n",
        "\n",
        "# Second split: 75% train, 25% val (of the 80%)\n",
        "X_train, X_val, y_train, y_val = train_test_split(\n",
        "    X_temp, y_temp, test_size=0.25, random_state=42, stratify=y_temp\n",
        ")\n",
        "\n",
        "print(f\"Train set: {X_train.shape[0]:,} samples ({X_train.shape[0]/len(X)*100:.1f}%)\")\n",
        "print(f\"Validation set: {X_val.shape[0]:,} samples ({X_val.shape[0]/len(X)*100:.1f}%)\")\n",
        "print(f\"Test set: {X_test.shape[0]:,} samples ({X_test.shape[0]/len(X)*100:.1f}%)\")\n",
        "\n",
        "print(\"\\n✓ Data split completed!\")"
      ]
    },
    {
      "cell_type": "markdown",
      "metadata": {
        "id": "wmJBzxVUw1UR"
      },
      "source": [
        "## 4. Model Building <a id='models'></a>\n",
        "\n",
        "We'll build three models:\n",
        "1. **Simple RNN** - Baseline model\n",
        "2. **LSTM** - Improved model with better long-term memory\n",
        "3. **Bidirectional LSTM** - Best model that reads text in both directions"
      ]
    },
    {
      "cell_type": "code",
      "execution_count": null,
      "metadata": {
        "colab": {
          "base_uri": "https://localhost:8080/",
          "height": 376
        },
        "id": "axrSyVsgw1UR",
        "outputId": "e88df994-a81e-47dc-88d4-b8697af7b64e"
      },
      "outputs": [
        {
          "output_type": "stream",
          "name": "stdout",
          "text": [
            "============================================================\n",
            "MODEL 1: SIMPLE RNN\n",
            "============================================================\n"
          ]
        },
        {
          "output_type": "display_data",
          "data": {
            "text/plain": [
              "\u001b[1mModel: \"RNN_Model\"\u001b[0m\n"
            ],
            "text/html": [
              "<pre style=\"white-space:pre;overflow-x:auto;line-height:normal;font-family:Menlo,'DejaVu Sans Mono',consolas,'Courier New',monospace\"><span style=\"font-weight: bold\">Model: \"RNN_Model\"</span>\n",
              "</pre>\n"
            ]
          },
          "metadata": {}
        },
        {
          "output_type": "display_data",
          "data": {
            "text/plain": [
              "┏━━━━━━━━━━━━━━━━━━━━━━━━━━━━━━━━━┳━━━━━━━━━━━━━━━━━━━━━━━━┳━━━━━━━━━━━━━━━┓\n",
              "┃\u001b[1m \u001b[0m\u001b[1mLayer (type)                   \u001b[0m\u001b[1m \u001b[0m┃\u001b[1m \u001b[0m\u001b[1mOutput Shape          \u001b[0m\u001b[1m \u001b[0m┃\u001b[1m \u001b[0m\u001b[1m      Param #\u001b[0m\u001b[1m \u001b[0m┃\n",
              "┡━━━━━━━━━━━━━━━━━━━━━━━━━━━━━━━━━╇━━━━━━━━━━━━━━━━━━━━━━━━╇━━━━━━━━━━━━━━━┩\n",
              "│ embedding (\u001b[38;5;33mEmbedding\u001b[0m)           │ ?                      │   \u001b[38;5;34m0\u001b[0m (unbuilt) │\n",
              "├─────────────────────────────────┼────────────────────────┼───────────────┤\n",
              "│ rnn (\u001b[38;5;33mSimpleRNN\u001b[0m)                 │ ?                      │   \u001b[38;5;34m0\u001b[0m (unbuilt) │\n",
              "├─────────────────────────────────┼────────────────────────┼───────────────┤\n",
              "│ dense1 (\u001b[38;5;33mDense\u001b[0m)                  │ ?                      │   \u001b[38;5;34m0\u001b[0m (unbuilt) │\n",
              "├─────────────────────────────────┼────────────────────────┼───────────────┤\n",
              "│ dropout (\u001b[38;5;33mDropout\u001b[0m)               │ ?                      │             \u001b[38;5;34m0\u001b[0m │\n",
              "├─────────────────────────────────┼────────────────────────┼───────────────┤\n",
              "│ output (\u001b[38;5;33mDense\u001b[0m)                  │ ?                      │   \u001b[38;5;34m0\u001b[0m (unbuilt) │\n",
              "└─────────────────────────────────┴────────────────────────┴───────────────┘\n"
            ],
            "text/html": [
              "<pre style=\"white-space:pre;overflow-x:auto;line-height:normal;font-family:Menlo,'DejaVu Sans Mono',consolas,'Courier New',monospace\">┏━━━━━━━━━━━━━━━━━━━━━━━━━━━━━━━━━┳━━━━━━━━━━━━━━━━━━━━━━━━┳━━━━━━━━━━━━━━━┓\n",
              "┃<span style=\"font-weight: bold\"> Layer (type)                    </span>┃<span style=\"font-weight: bold\"> Output Shape           </span>┃<span style=\"font-weight: bold\">       Param # </span>┃\n",
              "┡━━━━━━━━━━━━━━━━━━━━━━━━━━━━━━━━━╇━━━━━━━━━━━━━━━━━━━━━━━━╇━━━━━━━━━━━━━━━┩\n",
              "│ embedding (<span style=\"color: #0087ff; text-decoration-color: #0087ff\">Embedding</span>)           │ ?                      │   <span style=\"color: #00af00; text-decoration-color: #00af00\">0</span> (unbuilt) │\n",
              "├─────────────────────────────────┼────────────────────────┼───────────────┤\n",
              "│ rnn (<span style=\"color: #0087ff; text-decoration-color: #0087ff\">SimpleRNN</span>)                 │ ?                      │   <span style=\"color: #00af00; text-decoration-color: #00af00\">0</span> (unbuilt) │\n",
              "├─────────────────────────────────┼────────────────────────┼───────────────┤\n",
              "│ dense1 (<span style=\"color: #0087ff; text-decoration-color: #0087ff\">Dense</span>)                  │ ?                      │   <span style=\"color: #00af00; text-decoration-color: #00af00\">0</span> (unbuilt) │\n",
              "├─────────────────────────────────┼────────────────────────┼───────────────┤\n",
              "│ dropout (<span style=\"color: #0087ff; text-decoration-color: #0087ff\">Dropout</span>)               │ ?                      │             <span style=\"color: #00af00; text-decoration-color: #00af00\">0</span> │\n",
              "├─────────────────────────────────┼────────────────────────┼───────────────┤\n",
              "│ output (<span style=\"color: #0087ff; text-decoration-color: #0087ff\">Dense</span>)                  │ ?                      │   <span style=\"color: #00af00; text-decoration-color: #00af00\">0</span> (unbuilt) │\n",
              "└─────────────────────────────────┴────────────────────────┴───────────────┘\n",
              "</pre>\n"
            ]
          },
          "metadata": {}
        },
        {
          "output_type": "display_data",
          "data": {
            "text/plain": [
              "\u001b[1m Total params: \u001b[0m\u001b[38;5;34m0\u001b[0m (0.00 B)\n"
            ],
            "text/html": [
              "<pre style=\"white-space:pre;overflow-x:auto;line-height:normal;font-family:Menlo,'DejaVu Sans Mono',consolas,'Courier New',monospace\"><span style=\"font-weight: bold\"> Total params: </span><span style=\"color: #00af00; text-decoration-color: #00af00\">0</span> (0.00 B)\n",
              "</pre>\n"
            ]
          },
          "metadata": {}
        },
        {
          "output_type": "display_data",
          "data": {
            "text/plain": [
              "\u001b[1m Trainable params: \u001b[0m\u001b[38;5;34m0\u001b[0m (0.00 B)\n"
            ],
            "text/html": [
              "<pre style=\"white-space:pre;overflow-x:auto;line-height:normal;font-family:Menlo,'DejaVu Sans Mono',consolas,'Courier New',monospace\"><span style=\"font-weight: bold\"> Trainable params: </span><span style=\"color: #00af00; text-decoration-color: #00af00\">0</span> (0.00 B)\n",
              "</pre>\n"
            ]
          },
          "metadata": {}
        },
        {
          "output_type": "display_data",
          "data": {
            "text/plain": [
              "\u001b[1m Non-trainable params: \u001b[0m\u001b[38;5;34m0\u001b[0m (0.00 B)\n"
            ],
            "text/html": [
              "<pre style=\"white-space:pre;overflow-x:auto;line-height:normal;font-family:Menlo,'DejaVu Sans Mono',consolas,'Courier New',monospace\"><span style=\"font-weight: bold\"> Non-trainable params: </span><span style=\"color: #00af00; text-decoration-color: #00af00\">0</span> (0.00 B)\n",
              "</pre>\n"
            ]
          },
          "metadata": {}
        },
        {
          "output_type": "stream",
          "name": "stdout",
          "text": [
            "\n",
            "✓ RNN model created!\n"
          ]
        }
      ],
      "source": [
        "# Model 1: Simple RNN\n",
        "def build_rnn_model(vocab_size=MAX_WORDS, embedding_dim=128, rnn_units=128):\n",
        "    \"\"\"\n",
        "    Build a Simple RNN model for sentiment classification.\n",
        "\n",
        "    Architecture:\n",
        "    - Embedding layer: converts words to dense vectors\n",
        "    - SimpleRNN layer: processes sequences\n",
        "    - Dense layers: classification\n",
        "    \"\"\"\n",
        "    model = Sequential([\n",
        "        Embedding(input_dim=vocab_size,\n",
        "                  output_dim=embedding_dim,\n",
        "                  input_length=MAX_LEN,\n",
        "                  name='embedding'),\n",
        "\n",
        "        SimpleRNN(rnn_units,\n",
        "                  dropout=0.1,\n",
        "                  recurrent_dropout=0.1,\n",
        "                  name='rnn'),\n",
        "\n",
        "        Dense(64, activation='relu', name='dense1'),\n",
        "        Dropout(0.3, name='dropout'),\n",
        "        Dense(1, activation='sigmoid', name='output')\n",
        "    ], name='RNN_Model')\n",
        "\n",
        "    model.compile(\n",
        "        optimizer='adam',\n",
        "        loss='binary_crossentropy',\n",
        "        metrics=['accuracy']\n",
        "    )\n",
        "\n",
        "    return model\n",
        "\n",
        "# Create and display RNN model\n",
        "print(\"=\"*60)\n",
        "print(\"MODEL 1: SIMPLE RNN\")\n",
        "print(\"=\"*60)\n",
        "rnn_model = build_rnn_model()\n",
        "rnn_model.summary()\n",
        "print(\"\\n✓ RNN model created!\")"
      ]
    },
    {
      "cell_type": "code",
      "execution_count": null,
      "metadata": {
        "colab": {
          "base_uri": "https://localhost:8080/",
          "height": 376
        },
        "id": "EqvWsj0Xw1US",
        "outputId": "c6159378-6f9c-404a-9269-138615aea498"
      },
      "outputs": [
        {
          "output_type": "stream",
          "name": "stdout",
          "text": [
            "============================================================\n",
            "MODEL 2: LSTM\n",
            "============================================================\n"
          ]
        },
        {
          "output_type": "display_data",
          "data": {
            "text/plain": [
              "\u001b[1mModel: \"LSTM_Model\"\u001b[0m\n"
            ],
            "text/html": [
              "<pre style=\"white-space:pre;overflow-x:auto;line-height:normal;font-family:Menlo,'DejaVu Sans Mono',consolas,'Courier New',monospace\"><span style=\"font-weight: bold\">Model: \"LSTM_Model\"</span>\n",
              "</pre>\n"
            ]
          },
          "metadata": {}
        },
        {
          "output_type": "display_data",
          "data": {
            "text/plain": [
              "┏━━━━━━━━━━━━━━━━━━━━━━━━━━━━━━━━━┳━━━━━━━━━━━━━━━━━━━━━━━━┳━━━━━━━━━━━━━━━┓\n",
              "┃\u001b[1m \u001b[0m\u001b[1mLayer (type)                   \u001b[0m\u001b[1m \u001b[0m┃\u001b[1m \u001b[0m\u001b[1mOutput Shape          \u001b[0m\u001b[1m \u001b[0m┃\u001b[1m \u001b[0m\u001b[1m      Param #\u001b[0m\u001b[1m \u001b[0m┃\n",
              "┡━━━━━━━━━━━━━━━━━━━━━━━━━━━━━━━━━╇━━━━━━━━━━━━━━━━━━━━━━━━╇━━━━━━━━━━━━━━━┩\n",
              "│ embedding (\u001b[38;5;33mEmbedding\u001b[0m)           │ ?                      │   \u001b[38;5;34m0\u001b[0m (unbuilt) │\n",
              "├─────────────────────────────────┼────────────────────────┼───────────────┤\n",
              "│ lstm (\u001b[38;5;33mLSTM\u001b[0m)                     │ ?                      │   \u001b[38;5;34m0\u001b[0m (unbuilt) │\n",
              "├─────────────────────────────────┼────────────────────────┼───────────────┤\n",
              "│ dense1 (\u001b[38;5;33mDense\u001b[0m)                  │ ?                      │   \u001b[38;5;34m0\u001b[0m (unbuilt) │\n",
              "├─────────────────────────────────┼────────────────────────┼───────────────┤\n",
              "│ dropout (\u001b[38;5;33mDropout\u001b[0m)               │ ?                      │             \u001b[38;5;34m0\u001b[0m │\n",
              "├─────────────────────────────────┼────────────────────────┼───────────────┤\n",
              "│ output (\u001b[38;5;33mDense\u001b[0m)                  │ ?                      │   \u001b[38;5;34m0\u001b[0m (unbuilt) │\n",
              "└─────────────────────────────────┴────────────────────────┴───────────────┘\n"
            ],
            "text/html": [
              "<pre style=\"white-space:pre;overflow-x:auto;line-height:normal;font-family:Menlo,'DejaVu Sans Mono',consolas,'Courier New',monospace\">┏━━━━━━━━━━━━━━━━━━━━━━━━━━━━━━━━━┳━━━━━━━━━━━━━━━━━━━━━━━━┳━━━━━━━━━━━━━━━┓\n",
              "┃<span style=\"font-weight: bold\"> Layer (type)                    </span>┃<span style=\"font-weight: bold\"> Output Shape           </span>┃<span style=\"font-weight: bold\">       Param # </span>┃\n",
              "┡━━━━━━━━━━━━━━━━━━━━━━━━━━━━━━━━━╇━━━━━━━━━━━━━━━━━━━━━━━━╇━━━━━━━━━━━━━━━┩\n",
              "│ embedding (<span style=\"color: #0087ff; text-decoration-color: #0087ff\">Embedding</span>)           │ ?                      │   <span style=\"color: #00af00; text-decoration-color: #00af00\">0</span> (unbuilt) │\n",
              "├─────────────────────────────────┼────────────────────────┼───────────────┤\n",
              "│ lstm (<span style=\"color: #0087ff; text-decoration-color: #0087ff\">LSTM</span>)                     │ ?                      │   <span style=\"color: #00af00; text-decoration-color: #00af00\">0</span> (unbuilt) │\n",
              "├─────────────────────────────────┼────────────────────────┼───────────────┤\n",
              "│ dense1 (<span style=\"color: #0087ff; text-decoration-color: #0087ff\">Dense</span>)                  │ ?                      │   <span style=\"color: #00af00; text-decoration-color: #00af00\">0</span> (unbuilt) │\n",
              "├─────────────────────────────────┼────────────────────────┼───────────────┤\n",
              "│ dropout (<span style=\"color: #0087ff; text-decoration-color: #0087ff\">Dropout</span>)               │ ?                      │             <span style=\"color: #00af00; text-decoration-color: #00af00\">0</span> │\n",
              "├─────────────────────────────────┼────────────────────────┼───────────────┤\n",
              "│ output (<span style=\"color: #0087ff; text-decoration-color: #0087ff\">Dense</span>)                  │ ?                      │   <span style=\"color: #00af00; text-decoration-color: #00af00\">0</span> (unbuilt) │\n",
              "└─────────────────────────────────┴────────────────────────┴───────────────┘\n",
              "</pre>\n"
            ]
          },
          "metadata": {}
        },
        {
          "output_type": "display_data",
          "data": {
            "text/plain": [
              "\u001b[1m Total params: \u001b[0m\u001b[38;5;34m0\u001b[0m (0.00 B)\n"
            ],
            "text/html": [
              "<pre style=\"white-space:pre;overflow-x:auto;line-height:normal;font-family:Menlo,'DejaVu Sans Mono',consolas,'Courier New',monospace\"><span style=\"font-weight: bold\"> Total params: </span><span style=\"color: #00af00; text-decoration-color: #00af00\">0</span> (0.00 B)\n",
              "</pre>\n"
            ]
          },
          "metadata": {}
        },
        {
          "output_type": "display_data",
          "data": {
            "text/plain": [
              "\u001b[1m Trainable params: \u001b[0m\u001b[38;5;34m0\u001b[0m (0.00 B)\n"
            ],
            "text/html": [
              "<pre style=\"white-space:pre;overflow-x:auto;line-height:normal;font-family:Menlo,'DejaVu Sans Mono',consolas,'Courier New',monospace\"><span style=\"font-weight: bold\"> Trainable params: </span><span style=\"color: #00af00; text-decoration-color: #00af00\">0</span> (0.00 B)\n",
              "</pre>\n"
            ]
          },
          "metadata": {}
        },
        {
          "output_type": "display_data",
          "data": {
            "text/plain": [
              "\u001b[1m Non-trainable params: \u001b[0m\u001b[38;5;34m0\u001b[0m (0.00 B)\n"
            ],
            "text/html": [
              "<pre style=\"white-space:pre;overflow-x:auto;line-height:normal;font-family:Menlo,'DejaVu Sans Mono',consolas,'Courier New',monospace\"><span style=\"font-weight: bold\"> Non-trainable params: </span><span style=\"color: #00af00; text-decoration-color: #00af00\">0</span> (0.00 B)\n",
              "</pre>\n"
            ]
          },
          "metadata": {}
        },
        {
          "output_type": "stream",
          "name": "stdout",
          "text": [
            "\n",
            "✓ LSTM model created!\n"
          ]
        }
      ],
      "source": [
        "# Model 2: LSTM\n",
        "def build_lstm_model(vocab_size=MAX_WORDS, embedding_dim=128, lstm_units=128):\n",
        "    \"\"\"\n",
        "    Build an LSTM model for sentiment classification.\n",
        "\n",
        "    Architecture:\n",
        "    - Embedding layer: converts words to dense vectors\n",
        "    - LSTM layer: processes sequences with better memory\n",
        "    - Dense layers: classification\n",
        "    \"\"\"\n",
        "    model = Sequential([\n",
        "        Embedding(input_dim=vocab_size,\n",
        "                  output_dim=embedding_dim,\n",
        "                  input_length=MAX_LEN,\n",
        "                  name='embedding'),\n",
        "\n",
        "        LSTM(lstm_units,\n",
        "             dropout=0.2,\n",
        "             recurrent_dropout=0.2,\n",
        "             name='lstm'),\n",
        "\n",
        "        Dense(64, activation='relu', name='dense1'),\n",
        "        Dropout(0.4, name='dropout'),\n",
        "        Dense(1, activation='sigmoid', name='output')\n",
        "    ], name='LSTM_Model')\n",
        "\n",
        "    model.compile(\n",
        "        optimizer='adam',\n",
        "        loss='binary_crossentropy',\n",
        "        metrics=['accuracy']\n",
        "    )\n",
        "\n",
        "    return model\n",
        "\n",
        "# Create and display LSTM model\n",
        "print(\"=\"*60)\n",
        "print(\"MODEL 2: LSTM\")\n",
        "print(\"=\"*60)\n",
        "lstm_model = build_lstm_model()\n",
        "lstm_model.summary()\n",
        "print(\"\\n✓ LSTM model created!\")"
      ]
    },
    {
      "cell_type": "code",
      "execution_count": null,
      "metadata": {
        "colab": {
          "base_uri": "https://localhost:8080/",
          "height": 376
        },
        "id": "Ye-wfRfFw1US",
        "outputId": "a209923c-6e0f-4925-a4c3-b31ecc5d1c26"
      },
      "outputs": [
        {
          "output_type": "stream",
          "name": "stdout",
          "text": [
            "============================================================\n",
            "MODEL 3: BIDIRECTIONAL LSTM\n",
            "============================================================\n"
          ]
        },
        {
          "output_type": "display_data",
          "data": {
            "text/plain": [
              "\u001b[1mModel: \"BiLSTM_Model\"\u001b[0m\n"
            ],
            "text/html": [
              "<pre style=\"white-space:pre;overflow-x:auto;line-height:normal;font-family:Menlo,'DejaVu Sans Mono',consolas,'Courier New',monospace\"><span style=\"font-weight: bold\">Model: \"BiLSTM_Model\"</span>\n",
              "</pre>\n"
            ]
          },
          "metadata": {}
        },
        {
          "output_type": "display_data",
          "data": {
            "text/plain": [
              "┏━━━━━━━━━━━━━━━━━━━━━━━━━━━━━━━━━┳━━━━━━━━━━━━━━━━━━━━━━━━┳━━━━━━━━━━━━━━━┓\n",
              "┃\u001b[1m \u001b[0m\u001b[1mLayer (type)                   \u001b[0m\u001b[1m \u001b[0m┃\u001b[1m \u001b[0m\u001b[1mOutput Shape          \u001b[0m\u001b[1m \u001b[0m┃\u001b[1m \u001b[0m\u001b[1m      Param #\u001b[0m\u001b[1m \u001b[0m┃\n",
              "┡━━━━━━━━━━━━━━━━━━━━━━━━━━━━━━━━━╇━━━━━━━━━━━━━━━━━━━━━━━━╇━━━━━━━━━━━━━━━┩\n",
              "│ embedding (\u001b[38;5;33mEmbedding\u001b[0m)           │ ?                      │   \u001b[38;5;34m0\u001b[0m (unbuilt) │\n",
              "├─────────────────────────────────┼────────────────────────┼───────────────┤\n",
              "│ bilstm (\u001b[38;5;33mBidirectional\u001b[0m)          │ ?                      │   \u001b[38;5;34m0\u001b[0m (unbuilt) │\n",
              "├─────────────────────────────────┼────────────────────────┼───────────────┤\n",
              "│ dense1 (\u001b[38;5;33mDense\u001b[0m)                  │ ?                      │   \u001b[38;5;34m0\u001b[0m (unbuilt) │\n",
              "├─────────────────────────────────┼────────────────────────┼───────────────┤\n",
              "│ dropout (\u001b[38;5;33mDropout\u001b[0m)               │ ?                      │             \u001b[38;5;34m0\u001b[0m │\n",
              "├─────────────────────────────────┼────────────────────────┼───────────────┤\n",
              "│ output (\u001b[38;5;33mDense\u001b[0m)                  │ ?                      │   \u001b[38;5;34m0\u001b[0m (unbuilt) │\n",
              "└─────────────────────────────────┴────────────────────────┴───────────────┘\n"
            ],
            "text/html": [
              "<pre style=\"white-space:pre;overflow-x:auto;line-height:normal;font-family:Menlo,'DejaVu Sans Mono',consolas,'Courier New',monospace\">┏━━━━━━━━━━━━━━━━━━━━━━━━━━━━━━━━━┳━━━━━━━━━━━━━━━━━━━━━━━━┳━━━━━━━━━━━━━━━┓\n",
              "┃<span style=\"font-weight: bold\"> Layer (type)                    </span>┃<span style=\"font-weight: bold\"> Output Shape           </span>┃<span style=\"font-weight: bold\">       Param # </span>┃\n",
              "┡━━━━━━━━━━━━━━━━━━━━━━━━━━━━━━━━━╇━━━━━━━━━━━━━━━━━━━━━━━━╇━━━━━━━━━━━━━━━┩\n",
              "│ embedding (<span style=\"color: #0087ff; text-decoration-color: #0087ff\">Embedding</span>)           │ ?                      │   <span style=\"color: #00af00; text-decoration-color: #00af00\">0</span> (unbuilt) │\n",
              "├─────────────────────────────────┼────────────────────────┼───────────────┤\n",
              "│ bilstm (<span style=\"color: #0087ff; text-decoration-color: #0087ff\">Bidirectional</span>)          │ ?                      │   <span style=\"color: #00af00; text-decoration-color: #00af00\">0</span> (unbuilt) │\n",
              "├─────────────────────────────────┼────────────────────────┼───────────────┤\n",
              "│ dense1 (<span style=\"color: #0087ff; text-decoration-color: #0087ff\">Dense</span>)                  │ ?                      │   <span style=\"color: #00af00; text-decoration-color: #00af00\">0</span> (unbuilt) │\n",
              "├─────────────────────────────────┼────────────────────────┼───────────────┤\n",
              "│ dropout (<span style=\"color: #0087ff; text-decoration-color: #0087ff\">Dropout</span>)               │ ?                      │             <span style=\"color: #00af00; text-decoration-color: #00af00\">0</span> │\n",
              "├─────────────────────────────────┼────────────────────────┼───────────────┤\n",
              "│ output (<span style=\"color: #0087ff; text-decoration-color: #0087ff\">Dense</span>)                  │ ?                      │   <span style=\"color: #00af00; text-decoration-color: #00af00\">0</span> (unbuilt) │\n",
              "└─────────────────────────────────┴────────────────────────┴───────────────┘\n",
              "</pre>\n"
            ]
          },
          "metadata": {}
        },
        {
          "output_type": "display_data",
          "data": {
            "text/plain": [
              "\u001b[1m Total params: \u001b[0m\u001b[38;5;34m0\u001b[0m (0.00 B)\n"
            ],
            "text/html": [
              "<pre style=\"white-space:pre;overflow-x:auto;line-height:normal;font-family:Menlo,'DejaVu Sans Mono',consolas,'Courier New',monospace\"><span style=\"font-weight: bold\"> Total params: </span><span style=\"color: #00af00; text-decoration-color: #00af00\">0</span> (0.00 B)\n",
              "</pre>\n"
            ]
          },
          "metadata": {}
        },
        {
          "output_type": "display_data",
          "data": {
            "text/plain": [
              "\u001b[1m Trainable params: \u001b[0m\u001b[38;5;34m0\u001b[0m (0.00 B)\n"
            ],
            "text/html": [
              "<pre style=\"white-space:pre;overflow-x:auto;line-height:normal;font-family:Menlo,'DejaVu Sans Mono',consolas,'Courier New',monospace\"><span style=\"font-weight: bold\"> Trainable params: </span><span style=\"color: #00af00; text-decoration-color: #00af00\">0</span> (0.00 B)\n",
              "</pre>\n"
            ]
          },
          "metadata": {}
        },
        {
          "output_type": "display_data",
          "data": {
            "text/plain": [
              "\u001b[1m Non-trainable params: \u001b[0m\u001b[38;5;34m0\u001b[0m (0.00 B)\n"
            ],
            "text/html": [
              "<pre style=\"white-space:pre;overflow-x:auto;line-height:normal;font-family:Menlo,'DejaVu Sans Mono',consolas,'Courier New',monospace\"><span style=\"font-weight: bold\"> Non-trainable params: </span><span style=\"color: #00af00; text-decoration-color: #00af00\">0</span> (0.00 B)\n",
              "</pre>\n"
            ]
          },
          "metadata": {}
        },
        {
          "output_type": "stream",
          "name": "stdout",
          "text": [
            "\n",
            "✓ BiLSTM model created!\n"
          ]
        }
      ],
      "source": [
        "# Model 3: Bidirectional LSTM\n",
        "def build_bilstm_model(vocab_size=MAX_WORDS, embedding_dim=128, lstm_units=128):\n",
        "    \"\"\"\n",
        "    Build a Bidirectional LSTM model for sentiment classification.\n",
        "\n",
        "    Architecture:\n",
        "    - Embedding layer: converts words to dense vectors\n",
        "    - Bidirectional LSTM: reads sequences forward AND backward\n",
        "    - Dense layers: classification\n",
        "    \"\"\"\n",
        "    model = Sequential([\n",
        "        Embedding(input_dim=vocab_size,\n",
        "                  output_dim=embedding_dim,\n",
        "                  input_length=MAX_LEN,\n",
        "                  name='embedding'),\n",
        "\n",
        "        Bidirectional(LSTM(lstm_units,\n",
        "                          dropout=0.2,\n",
        "                          recurrent_dropout=0.2),\n",
        "                     name='bilstm'),\n",
        "\n",
        "        Dense(64, activation='relu', name='dense1'),\n",
        "        Dropout(0.5, name='dropout'),\n",
        "        Dense(1, activation='sigmoid', name='output')\n",
        "    ], name='BiLSTM_Model')\n",
        "\n",
        "    model.compile(\n",
        "        optimizer='adam',\n",
        "        loss='binary_crossentropy',\n",
        "        metrics=['accuracy']\n",
        "    )\n",
        "\n",
        "    return model\n",
        "\n",
        "# Create and display BiLSTM model\n",
        "print(\"=\"*60)\n",
        "print(\"MODEL 3: BIDIRECTIONAL LSTM\")\n",
        "print(\"=\"*60)\n",
        "bilstm_model = build_bilstm_model()\n",
        "bilstm_model.summary()\n",
        "print(\"\\n✓ BiLSTM model created!\")"
      ]
    },
    {
      "cell_type": "markdown",
      "metadata": {
        "id": "07bDSobkw1UT"
      },
      "source": [
        "## 5. Training <a id='training'></a>\n",
        "\n",
        "We'll train all three models and track their performance."
      ]
    },
    {
      "cell_type": "code",
      "execution_count": null,
      "metadata": {
        "colab": {
          "base_uri": "https://localhost:8080/"
        },
        "id": "ulgrXpYww1UT",
        "outputId": "60cf45ad-c71a-44ea-d3ea-2bbe466a3630"
      },
      "outputs": [
        {
          "output_type": "stream",
          "name": "stdout",
          "text": [
            "Training Configuration:\n",
            "  - Epochs: 10\n",
            "  - Batch Size: 512\n",
            "  - Early Stopping: Enabled (patience=3)\n",
            "  - Learning Rate Reduction: Enabled\n",
            "\n",
            "============================================================\n"
          ]
        }
      ],
      "source": [
        "# Training configuration\n",
        "EPOCHS = 10\n",
        "BATCH_SIZE = 512  # Optimized for GPU\n",
        "\n",
        "# Callbacks for better training\n",
        "early_stop = EarlyStopping(\n",
        "    monitor='val_accuracy',\n",
        "    patience=4,\n",
        "    restore_best_weights=False,\n",
        "    verbose=1\n",
        ")\n",
        "\n",
        "reduce_lr = ReduceLROnPlateau(\n",
        "    monitor='val_loss',\n",
        "    factor=0.5,\n",
        "    patience=3,\n",
        "    min_lr=1e-7,\n",
        "    verbose=1\n",
        ")\n",
        "\n",
        "print(f\"Training Configuration:\")\n",
        "print(f\"  - Epochs: {EPOCHS}\")\n",
        "print(f\"  - Batch Size: {BATCH_SIZE}\")\n",
        "print(f\"  - Early Stopping: Enabled (patience=3)\")\n",
        "print(f\"  - Learning Rate Reduction: Enabled\")\n",
        "print(\"\\n\" + \"=\"*60)"
      ]
    },
    {
      "cell_type": "code",
      "execution_count": null,
      "metadata": {
        "colab": {
          "base_uri": "https://localhost:8080/"
        },
        "id": "QvTc4bznw1UT",
        "outputId": "c936e47d-f7f1-47e6-e10f-79caf9c5c015"
      },
      "outputs": [
        {
          "output_type": "stream",
          "name": "stdout",
          "text": [
            "\n",
            "============================================================\n",
            "TRAINING MODEL 1: SIMPLE RNN\n",
            "============================================================\n",
            "\n",
            "Epoch 1/10\n",
            "\u001b[1m59/59\u001b[0m \u001b[32m━━━━━━━━━━━━━━━━━━━━\u001b[0m\u001b[37m\u001b[0m \u001b[1m10s\u001b[0m 99ms/step - accuracy: 0.4951 - loss: 0.7100 - val_accuracy: 0.4910 - val_loss: 0.6963 - learning_rate: 0.0010\n",
            "Epoch 2/10\n",
            "\u001b[1m59/59\u001b[0m \u001b[32m━━━━━━━━━━━━━━━━━━━━\u001b[0m\u001b[37m\u001b[0m \u001b[1m2s\u001b[0m 32ms/step - accuracy: 0.5015 - loss: 0.7033 - val_accuracy: 0.5000 - val_loss: 0.7004 - learning_rate: 0.0010\n",
            "Epoch 3/10\n",
            "\u001b[1m59/59\u001b[0m \u001b[32m━━━━━━━━━━━━━━━━━━━━\u001b[0m\u001b[37m\u001b[0m \u001b[1m2s\u001b[0m 32ms/step - accuracy: 0.5039 - loss: 0.6972 - val_accuracy: 0.4980 - val_loss: 0.6932 - learning_rate: 0.0010\n",
            "Epoch 4/10\n",
            "\u001b[1m59/59\u001b[0m \u001b[32m━━━━━━━━━━━━━━━━━━━━\u001b[0m\u001b[37m\u001b[0m \u001b[1m2s\u001b[0m 32ms/step - accuracy: 0.5076 - loss: 0.6953 - val_accuracy: 0.5043 - val_loss: 0.6933 - learning_rate: 0.0010\n",
            "Epoch 5/10\n",
            "\u001b[1m59/59\u001b[0m \u001b[32m━━━━━━━━━━━━━━━━━━━━\u001b[0m\u001b[37m\u001b[0m \u001b[1m2s\u001b[0m 33ms/step - accuracy: 0.5058 - loss: 0.6944 - val_accuracy: 0.4980 - val_loss: 0.6934 - learning_rate: 0.0010\n",
            "Epoch 6/10\n",
            "\u001b[1m59/59\u001b[0m \u001b[32m━━━━━━━━━━━━━━━━━━━━\u001b[0m\u001b[37m\u001b[0m \u001b[1m2s\u001b[0m 35ms/step - accuracy: 0.5090 - loss: 0.6931 - val_accuracy: 0.5057 - val_loss: 0.6929 - learning_rate: 0.0010\n",
            "Epoch 7/10\n",
            "\u001b[1m59/59\u001b[0m \u001b[32m━━━━━━━━━━━━━━━━━━━━\u001b[0m\u001b[37m\u001b[0m \u001b[1m3s\u001b[0m 40ms/step - accuracy: 0.4996 - loss: 0.6937 - val_accuracy: 0.5020 - val_loss: 0.6929 - learning_rate: 0.0010\n",
            "Epoch 8/10\n",
            "\u001b[1m59/59\u001b[0m \u001b[32m━━━━━━━━━━━━━━━━━━━━\u001b[0m\u001b[37m\u001b[0m \u001b[1m2s\u001b[0m 32ms/step - accuracy: 0.5084 - loss: 0.6925 - val_accuracy: 0.5048 - val_loss: 0.6928 - learning_rate: 0.0010\n",
            "Epoch 9/10\n",
            "\u001b[1m59/59\u001b[0m \u001b[32m━━━━━━━━━━━━━━━━━━━━\u001b[0m\u001b[37m\u001b[0m \u001b[1m2s\u001b[0m 32ms/step - accuracy: 0.5227 - loss: 0.6904 - val_accuracy: 0.5204 - val_loss: 0.6915 - learning_rate: 0.0010\n",
            "Epoch 10/10\n",
            "\u001b[1m59/59\u001b[0m \u001b[32m━━━━━━━━━━━━━━━━━━━━\u001b[0m\u001b[37m\u001b[0m \u001b[1m2s\u001b[0m 32ms/step - accuracy: 0.5389 - loss: 0.6854 - val_accuracy: 0.5089 - val_loss: 0.6931 - learning_rate: 0.0010\n",
            "Restoring model weights from the end of the best epoch: 9.\n",
            "\n",
            "✓ RNN training completed!\n"
          ]
        }
      ],
      "source": [
        "# Train Model 1: RNN\n",
        "print(\"\\n\" + \"=\"*60)\n",
        "print(\"TRAINING MODEL 1: SIMPLE RNN\")\n",
        "print(\"=\"*60 + \"\\n\")\n",
        "\n",
        "history_rnn = rnn_model.fit(\n",
        "    X_train, y_train,\n",
        "    epochs=EPOCHS,\n",
        "    batch_size=BATCH_SIZE,\n",
        "    validation_data=(X_val, y_val),\n",
        "    callbacks=[early_stop, reduce_lr],\n",
        "    verbose=1\n",
        ")\n",
        "\n",
        "print(\"\\n✓ RNN training completed!\")"
      ]
    },
    {
      "cell_type": "code",
      "execution_count": null,
      "metadata": {
        "colab": {
          "base_uri": "https://localhost:8080/"
        },
        "id": "Tfq1gZGlw1UT",
        "outputId": "5d824497-7836-4588-8f37-4c1e2af17395"
      },
      "outputs": [
        {
          "output_type": "stream",
          "name": "stdout",
          "text": [
            "\n",
            "============================================================\n",
            "TRAINING MODEL 2: LSTM\n",
            "============================================================\n",
            "\n",
            "Epoch 1/10\n",
            "\u001b[1m59/59\u001b[0m \u001b[32m━━━━━━━━━━━━━━━━━━━━\u001b[0m\u001b[37m\u001b[0m \u001b[1m47s\u001b[0m 734ms/step - accuracy: 0.5064 - loss: 0.6928 - val_accuracy: 0.5257 - val_loss: 0.6843 - learning_rate: 0.0010\n",
            "Epoch 2/10\n",
            "\u001b[1m59/59\u001b[0m \u001b[32m━━━━━━━━━━━━━━━━━━━━\u001b[0m\u001b[37m\u001b[0m \u001b[1m41s\u001b[0m 700ms/step - accuracy: 0.5594 - loss: 0.6862 - val_accuracy: 0.5014 - val_loss: 0.6931 - learning_rate: 0.0010\n",
            "Epoch 3/10\n",
            "\u001b[1m59/59\u001b[0m \u001b[32m━━━━━━━━━━━━━━━━━━━━\u001b[0m\u001b[37m\u001b[0m \u001b[1m44s\u001b[0m 746ms/step - accuracy: 0.5096 - loss: 0.6932 - val_accuracy: 0.5092 - val_loss: 0.6924 - learning_rate: 0.0010\n",
            "Epoch 4/10\n",
            "\u001b[1m59/59\u001b[0m \u001b[32m━━━━━━━━━━━━━━━━━━━━\u001b[0m\u001b[37m\u001b[0m \u001b[1m0s\u001b[0m 654ms/step - accuracy: 0.5260 - loss: 0.6919\n",
            "Epoch 4: ReduceLROnPlateau reducing learning rate to 0.0005000000237487257.\n",
            "\u001b[1m59/59\u001b[0m \u001b[32m━━━━━━━━━━━━━━━━━━━━\u001b[0m\u001b[37m\u001b[0m \u001b[1m41s\u001b[0m 699ms/step - accuracy: 0.5261 - loss: 0.6919 - val_accuracy: 0.5397 - val_loss: 0.6900 - learning_rate: 0.0010\n",
            "Epoch 5/10\n",
            "\u001b[1m59/59\u001b[0m \u001b[32m━━━━━━━━━━━━━━━━━━━━\u001b[0m\u001b[37m\u001b[0m \u001b[1m42s\u001b[0m 707ms/step - accuracy: 0.5664 - loss: 0.6855 - val_accuracy: 0.5717 - val_loss: 0.6725 - learning_rate: 5.0000e-04\n",
            "Epoch 6/10\n",
            "\u001b[1m59/59\u001b[0m \u001b[32m━━━━━━━━━━━━━━━━━━━━\u001b[0m\u001b[37m\u001b[0m \u001b[1m82s\u001b[0m 705ms/step - accuracy: 0.6330 - loss: 0.6356 - val_accuracy: 0.6667 - val_loss: 0.6572 - learning_rate: 5.0000e-04\n",
            "Epoch 7/10\n",
            "\u001b[1m59/59\u001b[0m \u001b[32m━━━━━━━━━━━━━━━━━━━━\u001b[0m\u001b[37m\u001b[0m \u001b[1m82s\u001b[0m 704ms/step - accuracy: 0.6275 - loss: 0.6571 - val_accuracy: 0.5992 - val_loss: 0.6421 - learning_rate: 5.0000e-04\n",
            "Epoch 8/10\n",
            "\u001b[1m59/59\u001b[0m \u001b[32m━━━━━━━━━━━━━━━━━━━━\u001b[0m\u001b[37m\u001b[0m \u001b[1m42s\u001b[0m 700ms/step - accuracy: 0.6308 - loss: 0.6132 - val_accuracy: 0.6199 - val_loss: 0.6132 - learning_rate: 5.0000e-04\n",
            "Epoch 9/10\n",
            "\u001b[1m59/59\u001b[0m \u001b[32m━━━━━━━━━━━━━━━━━━━━\u001b[0m\u001b[37m\u001b[0m \u001b[1m41s\u001b[0m 694ms/step - accuracy: 0.6421 - loss: 0.5823 - val_accuracy: 0.6280 - val_loss: 0.6164 - learning_rate: 5.0000e-04\n",
            "Epoch 10/10\n",
            "\u001b[1m59/59\u001b[0m \u001b[32m━━━━━━━━━━━━━━━━━━━━\u001b[0m\u001b[37m\u001b[0m \u001b[1m42s\u001b[0m 709ms/step - accuracy: 0.6972 - loss: 0.5442 - val_accuracy: 0.7975 - val_loss: 0.5038 - learning_rate: 5.0000e-04\n",
            "Restoring model weights from the end of the best epoch: 10.\n",
            "\n",
            "✓ LSTM training completed!\n"
          ]
        }
      ],
      "source": [
        "# Train Model 2: LSTM\n",
        "print(\"\\n\" + \"=\"*60)\n",
        "print(\"TRAINING MODEL 2: LSTM\")\n",
        "print(\"=\"*60 + \"\\n\")\n",
        "\n",
        "history_lstm = lstm_model.fit(\n",
        "    X_train, y_train,\n",
        "    epochs=EPOCHS,\n",
        "    batch_size=BATCH_SIZE,\n",
        "    validation_data=(X_val, y_val),\n",
        "    callbacks=[early_stop, reduce_lr],\n",
        "    verbose=1\n",
        ")\n",
        "\n",
        "print(\"\\n✓ LSTM training completed!\")"
      ]
    },
    {
      "cell_type": "code",
      "execution_count": null,
      "metadata": {
        "colab": {
          "base_uri": "https://localhost:8080/"
        },
        "id": "6qEGoheaw1UU",
        "outputId": "2a955e1c-2db4-4dc7-ffbf-935a691f8ee9"
      },
      "outputs": [
        {
          "output_type": "stream",
          "name": "stdout",
          "text": [
            "\n",
            "============================================================\n",
            "TRAINING MODEL 3: BIDIRECTIONAL LSTM\n",
            "============================================================\n",
            "\n",
            "Epoch 1/10\n",
            "\u001b[1m59/59\u001b[0m \u001b[32m━━━━━━━━━━━━━━━━━━━━\u001b[0m\u001b[37m\u001b[0m \u001b[1m73s\u001b[0m 1s/step - accuracy: 0.9155 - loss: 0.2441 - val_accuracy: 0.8560 - val_loss: 0.3650 - learning_rate: 1.2500e-04\n",
            "Epoch 2/10\n",
            "\u001b[1m59/59\u001b[0m \u001b[32m━━━━━━━━━━━━━━━━━━━━\u001b[0m\u001b[37m\u001b[0m \u001b[1m81s\u001b[0m 1s/step - accuracy: 0.9197 - loss: 0.2313 - val_accuracy: 0.8559 - val_loss: 0.3689 - learning_rate: 1.2500e-04\n",
            "Epoch 3/10\n",
            "\u001b[1m59/59\u001b[0m \u001b[32m━━━━━━━━━━━━━━━━━━━━\u001b[0m\u001b[37m\u001b[0m \u001b[1m82s\u001b[0m 1s/step - accuracy: 0.9236 - loss: 0.2151 - val_accuracy: 0.8550 - val_loss: 0.3662 - learning_rate: 1.2500e-04\n",
            "Epoch 4/10\n",
            "\u001b[1m59/59\u001b[0m \u001b[32m━━━━━━━━━━━━━━━━━━━━\u001b[0m\u001b[37m\u001b[0m \u001b[1m0s\u001b[0m 1s/step - accuracy: 0.9304 - loss: 0.2067\n",
            "Epoch 4: ReduceLROnPlateau reducing learning rate to 6.25000029685907e-05.\n",
            "\u001b[1m59/59\u001b[0m \u001b[32m━━━━━━━━━━━━━━━━━━━━\u001b[0m\u001b[37m\u001b[0m \u001b[1m72s\u001b[0m 1s/step - accuracy: 0.9304 - loss: 0.2066 - val_accuracy: 0.8558 - val_loss: 0.3703 - learning_rate: 1.2500e-04\n",
            "Epoch 5/10\n",
            "\u001b[1m59/59\u001b[0m \u001b[32m━━━━━━━━━━━━━━━━━━━━\u001b[0m\u001b[37m\u001b[0m \u001b[1m82s\u001b[0m 1s/step - accuracy: 0.9313 - loss: 0.2081 - val_accuracy: 0.8552 - val_loss: 0.3717 - learning_rate: 6.2500e-05\n",
            "Epoch 5: early stopping\n",
            "\n",
            "✓ BiLSTM training completed!\n"
          ]
        }
      ],
      "source": [
        "# Train Model 3: BiLSTM\n",
        "print(\"\\n\" + \"=\"*60)\n",
        "print(\"TRAINING MODEL 3: BIDIRECTIONAL LSTM\")\n",
        "print(\"=\"*60 + \"\\n\")\n",
        "\n",
        "history_bilstm = bilstm_model.fit(\n",
        "    X_train, y_train,\n",
        "    epochs=EPOCHS,\n",
        "    batch_size=BATCH_SIZE,\n",
        "    validation_data=(X_val, y_val),\n",
        "    callbacks=[early_stop, reduce_lr],\n",
        "    verbose=1\n",
        ")\n",
        "\n",
        "print(\"\\n✓ BiLSTM training completed!\")"
      ]
    },
    {
      "cell_type": "markdown",
      "metadata": {
        "id": "XQMKHGtFw1UU"
      },
      "source": [
        "## 6. Evaluation & Comparison <a id='evaluation'></a>\n",
        "\n",
        "Now we'll evaluate all models on the test set and compare their performance."
      ]
    },
    {
      "cell_type": "code",
      "execution_count": null,
      "metadata": {
        "colab": {
          "base_uri": "https://localhost:8080/"
        },
        "id": "KeJCozuXw1UU",
        "outputId": "ff084b79-dc99-4228-ee2f-bfbfd398a1e6"
      },
      "outputs": [
        {
          "output_type": "stream",
          "name": "stdout",
          "text": [
            "\n",
            "============================================================\n",
            "RNN - TEST SET RESULTS\n",
            "============================================================\n",
            "Accuracy:  0.5239 (52.39%)\n",
            "Precision: 0.5350\n",
            "Recall:    0.3658\n",
            "F1-Score:  0.4345\n",
            "============================================================\n",
            "\n",
            "============================================================\n",
            "LSTM - TEST SET RESULTS\n",
            "============================================================\n",
            "Accuracy:  0.8039 (80.39%)\n",
            "Precision: 0.8326\n",
            "Recall:    0.7608\n",
            "F1-Score:  0.7951\n",
            "============================================================\n",
            "\n",
            "============================================================\n",
            "BILSTM - TEST SET RESULTS\n",
            "============================================================\n",
            "Accuracy:  0.8620 (86.20%)\n",
            "Precision: 0.8691\n",
            "Recall:    0.8524\n",
            "F1-Score:  0.8607\n",
            "============================================================\n",
            "\n",
            "✓ All models evaluated!\n"
          ]
        }
      ],
      "source": [
        "# Function to evaluate model and return metrics\n",
        "def evaluate_model(model, X_test, y_test, model_name):\n",
        "    \"\"\"\n",
        "    Evaluate model on test set and return all metrics.\n",
        "    \"\"\"\n",
        "    # Make predictions\n",
        "    y_pred_prob = model.predict(X_test, verbose=0)\n",
        "    y_pred = (y_pred_prob > 0.5).astype(int).flatten()\n",
        "\n",
        "    # Calculate metrics\n",
        "    accuracy = accuracy_score(y_test, y_pred)\n",
        "    precision = precision_score(y_test, y_pred)\n",
        "    recall = recall_score(y_test, y_pred)\n",
        "    f1 = f1_score(y_test, y_pred)\n",
        "\n",
        "    # Print results\n",
        "    print(f\"\\n{'='*60}\")\n",
        "    print(f\"{model_name.upper()} - TEST SET RESULTS\")\n",
        "    print(f\"{'='*60}\")\n",
        "    print(f\"Accuracy:  {accuracy:.4f} ({accuracy*100:.2f}%)\")\n",
        "    print(f\"Precision: {precision:.4f}\")\n",
        "    print(f\"Recall:    {recall:.4f}\")\n",
        "    print(f\"F1-Score:  {f1:.4f}\")\n",
        "    print(f\"{'='*60}\")\n",
        "\n",
        "    return {\n",
        "        'Model': model_name,\n",
        "        'Accuracy': accuracy,\n",
        "        'Precision': precision,\n",
        "        'Recall': recall,\n",
        "        'F1-Score': f1,\n",
        "        'Predictions': y_pred\n",
        "    }\n",
        "\n",
        "# Evaluate all models\n",
        "results_rnn = evaluate_model(rnn_model, X_test, y_test, \"RNN\")\n",
        "results_lstm = evaluate_model(lstm_model, X_test, y_test, \"LSTM\")\n",
        "results_bilstm = evaluate_model(bilstm_model, X_test, y_test, \"BiLSTM\")\n",
        "\n",
        "print(\"\\n✓ All models evaluated!\")"
      ]
    },
    {
      "cell_type": "code",
      "execution_count": null,
      "metadata": {
        "colab": {
          "base_uri": "https://localhost:8080/"
        },
        "id": "SPdYgry2w1UU",
        "outputId": "2733d249-2bb9-4081-c317-73559d949235"
      },
      "outputs": [
        {
          "output_type": "stream",
          "name": "stdout",
          "text": [
            "\n",
            "================================================================================\n",
            "MODEL COMPARISON TABLE\n",
            "================================================================================\n",
            " Model  Accuracy  Precision  Recall  F1-Score\n",
            "   RNN    0.5239   0.534952  0.3658  0.434493\n",
            "  LSTM    0.8039   0.832567  0.7608  0.795067\n",
            "BiLSTM    0.8620   0.869086  0.8524  0.860662\n",
            "================================================================================\n",
            "\n",
            "🏆 Best Model: BiLSTM (F1-Score: 0.8607)\n"
          ]
        }
      ],
      "source": [
        "# Create comparison table\n",
        "comparison_df = pd.DataFrame([\n",
        "    {\n",
        "        'Model': 'RNN',\n",
        "        'Accuracy': results_rnn['Accuracy'],\n",
        "        'Precision': results_rnn['Precision'],\n",
        "        'Recall': results_rnn['Recall'],\n",
        "        'F1-Score': results_rnn['F1-Score']\n",
        "    },\n",
        "    {\n",
        "        'Model': 'LSTM',\n",
        "        'Accuracy': results_lstm['Accuracy'],\n",
        "        'Precision': results_lstm['Precision'],\n",
        "        'Recall': results_lstm['Recall'],\n",
        "        'F1-Score': results_lstm['F1-Score']\n",
        "    },\n",
        "    {\n",
        "        'Model': 'BiLSTM',\n",
        "        'Accuracy': results_bilstm['Accuracy'],\n",
        "        'Precision': results_bilstm['Precision'],\n",
        "        'Recall': results_bilstm['Recall'],\n",
        "        'F1-Score': results_bilstm['F1-Score']\n",
        "    }\n",
        "])\n",
        "\n",
        "print(\"\\n\" + \"=\"*80)\n",
        "print(\"MODEL COMPARISON TABLE\")\n",
        "print(\"=\"*80)\n",
        "print(comparison_df.to_string(index=False))\n",
        "print(\"=\"*80)\n",
        "\n",
        "# Find best model\n",
        "best_model_idx = comparison_df['F1-Score'].idxmax()\n",
        "best_model = comparison_df.loc[best_model_idx, 'Model']\n",
        "print(f\"\\n🏆 Best Model: {best_model} (F1-Score: {comparison_df.loc[best_model_idx, 'F1-Score']:.4f})\")"
      ]
    },
    {
      "cell_type": "code",
      "execution_count": null,
      "metadata": {
        "colab": {
          "base_uri": "https://localhost:8080/",
          "height": 617
        },
        "id": "jeXxSeIXw1UV",
        "outputId": "dce93de2-0829-4638-f9fb-85f6ec50a0d6"
      },
      "outputs": [
        {
          "output_type": "display_data",
          "data": {
            "text/plain": [
              "<Figure size 1400x1000 with 4 Axes>"
            ],
            "image/png": "[encoded data removed]"
          },
          "metadata": {}
        }
      ],
      "source": [
        "# Visualize model comparison\n",
        "fig, axes = plt.subplots(2, 2, figsize=(14, 10))\n",
        "\n",
        "metrics = ['Accuracy', 'Precision', 'Recall', 'F1-Score']\n",
        "colors = ['#3498db', '#e74c3c', '#2ecc71']\n",
        "\n",
        "for idx, metric in enumerate(metrics):\n",
        "    ax = axes[idx // 2, idx % 2]\n",
        "    values = comparison_df[metric].values\n",
        "    bars = ax.bar(comparison_df['Model'], values, color=colors)\n",
        "\n",
        "    # Add value labels on bars\n",
        "    for bar in bars:\n",
        "        height = bar.get_height()\n",
        "        ax.text(bar.get_x() + bar.get_width()/2., height,\n",
        "                f'{height:.4f}',\n",
        "                ha='center', va='bottom', fontsize=10, fontweight='bold')\n",
        "\n",
        "    ax.set_ylabel(metric, fontsize=12)\n",
        "    ax.set_title(f'{metric} Comparison', fontsize=13, fontweight='bold')\n",
        "    ax.set_ylim([min(values) - 0.05, 1.0])\n",
        "    ax.grid(axis='y', alpha=0.3)\n",
        "\n",
        "plt.suptitle('Model Performance Comparison', fontsize=16, fontweight='bold', y=1.00)\n",
        "plt.tight_layout()\n",
        "plt.show()"
      ]
    },
    {
      "cell_type": "code",
      "execution_count": null,
      "metadata": {
        "id": "YWaa6bTzw1UV"
      },
      "outputs": [],
      "source": [
        "# Plot training history - Loss comparison\n",
        "plt.figure(figsize=(15, 5))\n",
        "\n",
        "# Plot 1: Training Loss\n",
        "plt.subplot(1, 3, 1)\n",
        "plt.plot(history_rnn.history['loss'], label='RNN', linewidth=2)\n",
        "plt.plot(history_lstm.history['loss'], label='LSTM', linewidth=2)\n",
        "plt.plot(history_bilstm.history['loss'], label='BiLSTM', linewidth=2)\n",
        "plt.xlabel('Epoch', fontsize=12)\n",
        "plt.ylabel('Loss', fontsize=12)\n",
        "plt.title('Training Loss vs Epochs', fontsize=13, fontweight='bold')\n",
        "plt.legend()\n",
        "plt.grid(True, alpha=0.3)\n",
        "\n",
        "# Plot 2: Validation Loss\n",
        "plt.subplot(1, 3, 2)\n",
        "plt.plot(history_rnn.history['val_loss'], label='RNN', linewidth=2)\n",
        "plt.plot(history_lstm.history['val_loss'], label='LSTM', linewidth=2)\n",
        "plt.plot(history_bilstm.history['val_loss'], label='BiLSTM', linewidth=2)\n",
        "plt.xlabel('Epoch', fontsize=12)\n",
        "plt.ylabel('Loss', fontsize=12)\n",
        "plt.title('Validation Loss vs Epochs', fontsize=13, fontweight='bold')\n",
        "plt.legend()\n",
        "plt.grid(True, alpha=0.3)\n",
        "\n",
        "# Plot 3: Validation Accuracy\n",
        "plt.subplot(1, 3, 3)\n",
        "plt.plot(history_rnn.history['val_accuracy'], label='RNN', linewidth=2)\n",
        "plt.plot(history_lstm.history['val_accuracy'], label='LSTM', linewidth=2)\n",
        "plt.plot(history_bilstm.history['val_accuracy'], label='BiLSTM', linewidth=2)\n",
        "plt.xlabel('Epoch', fontsize=12)\n",
        "plt.ylabel('Accuracy', fontsize=12)\n",
        "plt.title('Validation Accuracy vs Epochs', fontsize=13, fontweight='bold')\n",
        "plt.legend()\n",
        "plt.grid(True, alpha=0.3)\n",
        "\n",
        "plt.suptitle('Training History Comparison', fontsize=16, fontweight='bold', y=1.02)\n",
        "plt.tight_layout()\n",
        "plt.show()"
      ]
    },
    {
      "cell_type": "code",
      "execution_count": null,
      "metadata": {
        "colab": {
          "base_uri": "https://localhost:8080/",
          "height": 249
        },
        "id": "_2H9CzwDw1UW",
        "outputId": "a3ef8edb-dee4-4a53-8a0d-933c23f32b9d"
      },
      "outputs": [
        {
          "output_type": "display_data",
          "data": {
            "text/plain": [
              "<Figure size 1500x400 with 6 Axes>"
            ],
            "image/png": "[encoded data removed]"
          },
          "metadata": {}
        }
      ],
      "source": [
        "# Confusion matrices for all models\n",
        "fig, axes = plt.subplots(1, 3, figsize=(15, 4))\n",
        "\n",
        "models_data = [\n",
        "    (results_rnn['Predictions'], 'RNN'),\n",
        "    (results_lstm['Predictions'], 'LSTM'),\n",
        "    (results_bilstm['Predictions'], 'BiLSTM')\n",
        "]\n",
        "\n",
        "for idx, (predictions, name) in enumerate(models_data):\n",
        "    cm = confusion_matrix(y_test, predictions)\n",
        "\n",
        "    sns.heatmap(cm, annot=True, fmt='d', cmap='Blues',\n",
        "                xticklabels=['Negative', 'Positive'],\n",
        "                yticklabels=['Negative', 'Positive'],\n",
        "                ax=axes[idx], cbar=True)\n",
        "\n",
        "    axes[idx].set_xlabel('Predicted', fontsize=11)\n",
        "    axes[idx].set_ylabel('Actual', fontsize=11)\n",
        "    axes[idx].set_title(f'{name} - Confusion Matrix', fontsize=12, fontweight='bold')\n",
        "\n",
        "plt.suptitle('Confusion Matrices Comparison', fontsize=14, fontweight='bold', y=1.02)\n",
        "plt.tight_layout()\n",
        "plt.show()"
      ]
    },
    {
      "cell_type": "markdown",
      "metadata": {
        "id": "RNNlskSlw1UW"
      },
      "source": [
        "## 7. Ensemble Implementation <a id='ensemble'></a>\n",
        "\n",
        "We'll combine all three models using ensemble techniques for potentially better performance."
      ]
    },
    {
      "cell_type": "code",
      "execution_count": null,
      "metadata": {
        "id": "j60jSIVKw1UW"
      },
      "outputs": [],
      "source": [
        "# Get predictions from all models\n",
        "print(\"Getting predictions from all models...\\n\")\n",
        "\n",
        "rnn_pred_prob = rnn_model.predict(X_test, verbose=0)\n",
        "lstm_pred_prob = lstm_model.predict(X_test, verbose=0)\n",
        "bilstm_pred_prob = bilstm_model.predict(X_test, verbose=0)\n",
        "\n",
        "print(\"✓ Predictions obtained from all models!\")"
      ]
    },
    {
      "cell_type": "code",
      "execution_count": null,
      "metadata": {
        "id": "cdOtTJn3w1UX"
      },
      "outputs": [],
      "source": [
        "# Ensemble Method 1: Average Probabilities\n",
        "ensemble_avg_prob = (rnn_pred_prob + lstm_pred_prob + bilstm_pred_prob) / 3\n",
        "ensemble_avg_pred = (ensemble_avg_prob > 0.5).astype(int).flatten()\n",
        "\n",
        "# Calculate metrics for average ensemble\n",
        "acc_avg = accuracy_score(y_test, ensemble_avg_pred)\n",
        "prec_avg = precision_score(y_test, ensemble_avg_pred)\n",
        "rec_avg = recall_score(y_test, ensemble_avg_pred)\n",
        "f1_avg = f1_score(y_test, ensemble_avg_pred)\n",
        "\n",
        "print(\"\\n\" + \"=\"*60)\n",
        "print(\"ENSEMBLE METHOD 1: AVERAGE PROBABILITIES\")\n",
        "print(\"=\"*60)\n",
        "print(f\"Accuracy:  {acc_avg:.4f} ({acc_avg*100:.2f}%)\")\n",
        "print(f\"Precision: {prec_avg:.4f}\")\n",
        "print(f\"Recall:    {rec_avg:.4f}\")\n",
        "print(f\"F1-Score:  {f1_avg:.4f}\")\n",
        "print(\"=\"*60)"
      ]
    },
    {
      "cell_type": "code",
      "execution_count": null,
      "metadata": {
        "id": "rNyEBNmNw1UX"
      },
      "outputs": [],
      "source": [
        "# Ensemble Method 2: Majority Voting\n",
        "rnn_pred = (rnn_pred_prob > 0.5).astype(int).flatten()\n",
        "lstm_pred = (lstm_pred_prob > 0.5).astype(int).flatten()\n",
        "bilstm_pred = (bilstm_pred_prob > 0.5).astype(int).flatten()\n",
        "\n",
        "# Stack predictions and take majority vote\n",
        "stacked_preds = np.vstack([rnn_pred, lstm_pred, bilstm_pred])\n",
        "ensemble_voting_pred = (stacked_preds.sum(axis=0) >= 2).astype(int)\n",
        "\n",
        "# Calculate metrics for voting ensemble\n",
        "acc_voting = accuracy_score(y_test, ensemble_voting_pred)\n",
        "prec_voting = precision_score(y_test, ensemble_voting_pred)\n",
        "rec_voting = recall_score(y_test, ensemble_voting_pred)\n",
        "f1_voting = f1_score(y_test, ensemble_voting_pred)\n",
        "\n",
        "print(\"\\n\" + \"=\"*60)\n",
        "print(\"ENSEMBLE METHOD 2: MAJORITY VOTING\")\n",
        "print(\"=\"*60)\n",
        "print(f\"Accuracy:  {acc_voting:.4f} ({acc_voting*100:.2f}%)\")\n",
        "print(f\"Precision: {prec_voting:.4f}\")\n",
        "print(f\"Recall:    {rec_voting:.4f}\")\n",
        "print(f\"F1-Score:  {f1_voting:.4f}\")\n",
        "print(\"=\"*60)"
      ]
    },
    {
      "cell_type": "code",
      "execution_count": null,
      "metadata": {
        "id": "TIpgvgMCw1UY"
      },
      "outputs": [],
      "source": [
        "# Ensemble Method 3: Weighted Average (based on validation performance)\n",
        "# Calculate weights based on validation accuracy\n",
        "val_acc_rnn = max(history_rnn.history['val_accuracy'])\n",
        "val_acc_lstm = max(history_lstm.history['val_accuracy'])\n",
        "val_acc_bilstm = max(history_bilstm.history['val_accuracy'])\n",
        "\n",
        "total_acc = val_acc_rnn + val_acc_lstm + val_acc_bilstm\n",
        "weight_rnn = val_acc_rnn / total_acc\n",
        "weight_lstm = val_acc_lstm / total_acc\n",
        "weight_bilstm = val_acc_bilstm / total_acc\n",
        "\n",
        "print(f\"\\nWeights based on validation accuracy:\")\n",
        "print(f\"  RNN: {weight_rnn:.4f}\")\n",
        "print(f\"  LSTM: {weight_lstm:.4f}\")\n",
        "print(f\"  BiLSTM: {weight_bilstm:.4f}\")\n",
        "\n",
        "# Weighted average\n",
        "ensemble_weighted_prob = (weight_rnn * rnn_pred_prob +\n",
        "                          weight_lstm * lstm_pred_prob +\n",
        "                          weight_bilstm * bilstm_pred_prob)\n",
        "ensemble_weighted_pred = (ensemble_weighted_prob > 0.5).astype(int).flatten()\n",
        "\n",
        "# Calculate metrics for weighted ensemble\n",
        "acc_weighted = accuracy_score(y_test, ensemble_weighted_pred)\n",
        "prec_weighted = precision_score(y_test, ensemble_weighted_pred)\n",
        "rec_weighted = recall_score(y_test, ensemble_weighted_pred)\n",
        "f1_weighted = f1_score(y_test, ensemble_weighted_pred)\n",
        "\n",
        "print(\"\\n\" + \"=\"*60)\n",
        "print(\"ENSEMBLE METHOD 3: WEIGHTED AVERAGE\")\n",
        "print(\"=\"*60)\n",
        "print(f\"Accuracy:  {acc_weighted:.4f} ({acc_weighted*100:.2f}%)\")\n",
        "print(f\"Precision: {prec_weighted:.4f}\")\n",
        "print(f\"Recall:    {rec_weighted:.4f}\")\n",
        "print(f\"F1-Score:  {f1_weighted:.4f}\")\n",
        "print(\"=\"*60)"
      ]
    },
    {
      "cell_type": "code",
      "execution_count": null,
      "metadata": {
        "id": "Tzdi1DNqw1UY"
      },
      "outputs": [],
      "source": [
        "# Complete comparison including ensemble methods\n",
        "complete_comparison = pd.DataFrame([\n",
        "    {'Model': 'RNN', 'Accuracy': results_rnn['Accuracy'], 'Precision': results_rnn['Precision'],\n",
        "     'Recall': results_rnn['Recall'], 'F1-Score': results_rnn['F1-Score']},\n",
        "    {'Model': 'LSTM', 'Accuracy': results_lstm['Accuracy'], 'Precision': results_lstm['Precision'],\n",
        "     'Recall': results_lstm['Recall'], 'F1-Score': results_lstm['F1-Score']},\n",
        "    {'Model': 'BiLSTM', 'Accuracy': results_bilstm['Accuracy'], 'Precision': results_bilstm['Precision'],\n",
        "     'Recall': results_bilstm['Recall'], 'F1-Score': results_bilstm['F1-Score']},\n",
        "    {'Model': 'Ensemble (Avg)', 'Accuracy': acc_avg, 'Precision': prec_avg,\n",
        "     'Recall': rec_avg, 'F1-Score': f1_avg},\n",
        "    {'Model': 'Ensemble (Voting)', 'Accuracy': acc_voting, 'Precision': prec_voting,\n",
        "     'Recall': rec_voting, 'F1-Score': f1_voting},\n",
        "    {'Model': 'Ensemble (Weighted)', 'Accuracy': acc_weighted, 'Precision': prec_weighted,\n",
        "     'Recall': rec_weighted, 'F1-Score': f1_weighted}\n",
        "])\n",
        "\n",
        "print(\"\\n\" + \"=\"*90)\n",
        "print(\"COMPLETE MODEL COMPARISON (INCLUDING ENSEMBLE)\")\n",
        "print(\"=\"*90)\n",
        "print(complete_comparison.to_string(index=False))\n",
        "print(\"=\"*90)\n",
        "\n",
        "# Find overall best model\n",
        "best_idx = complete_comparison['F1-Score'].idxmax()\n",
        "best = complete_comparison.loc[best_idx, 'Model']\n",
        "best_f1 = complete_comparison.loc[best_idx, 'F1-Score']\n",
        "print(f\"\\n🏆 Overall Best Model: {best} (F1-Score: {best_f1:.4f})\")"
      ]
    },
    {
      "cell_type": "code",
      "execution_count": null,
      "metadata": {
        "id": "F6S5Q0pvw1UY"
      },
      "outputs": [],
      "source": [
        "# Visualize complete comparison\n",
        "plt.figure(figsize=(14, 6))\n",
        "\n",
        "# Plot all metrics\n",
        "x = np.arange(len(complete_comparison))\n",
        "width = 0.2\n",
        "\n",
        "plt.bar(x - 1.5*width, complete_comparison['Accuracy'], width, label='Accuracy', alpha=0.8)\n",
        "plt.bar(x - 0.5*width, complete_comparison['Precision'], width, label='Precision', alpha=0.8)\n",
        "plt.bar(x + 0.5*width, complete_comparison['Recall'], width, label='Recall', alpha=0.8)\n",
        "plt.bar(x + 1.5*width, complete_comparison['F1-Score'], width, label='F1-Score', alpha=0.8)\n",
        "\n",
        "plt.xlabel('Model', fontsize=12)\n",
        "plt.ylabel('Score', fontsize=12)\n",
        "plt.title('Complete Model Comparison (All Metrics)', fontsize=14, fontweight='bold')\n",
        "plt.xticks(x, complete_comparison['Model'], rotation=15, ha='right')\n",
        "plt.legend(loc='lower right')\n",
        "plt.ylim([0.8, 1.0])\n",
        "plt.grid(axis='y', alpha=0.3)\n",
        "plt.tight_layout()\n",
        "plt.show()"
      ]
    },
    {
      "cell_type": "markdown",
      "metadata": {
        "id": "t9HjWUHdw1UY"
      },
      "source": [
        "## 8. Results & Discussion <a id='discussion'></a>\n",
        "\n",
        "### Summary of Findings\n",
        "\n",
        "#### Model Performance:\n",
        "All models showed strong performance on the sentiment classification task. Here are the key observations:\n",
        "\n",
        "1. **Simple RNN (Baseline)**:\n",
        "   - Showed decent performance but struggled with longer sequences\n",
        "   - Training was faster but achieved lower accuracy\n",
        "   - Suffered from the vanishing gradient problem for long-term dependencies\n",
        "\n",
        "2. **LSTM**:\n",
        "   - Significant improvement over RNN\n",
        "   - Better at capturing long-term dependencies in reviews\n",
        "   - More stable training with consistent convergence\n",
        "   - Higher accuracy and F1-score compared to RNN\n",
        "\n",
        "3. **Bidirectional LSTM**:\n",
        "   - Best individual model performance\n",
        "   - Captures context from both directions (forward and backward)\n",
        "   - Slightly more parameters but noticeable improvement in metrics\n",
        "   - Best choice for understanding sentiment in complex reviews\n",
        "\n",
        "4. **Ensemble Methods**:\n",
        "   - **Average Probabilities**: Combined strengths of all models smoothly\n",
        "   - **Majority Voting**: Robust to individual model mistakes\n",
        "   - **Weighted Average**: Leveraged best-performing models more heavily\n",
        "   - Generally matched or slightly exceeded BiLSTM performance\n",
        "\n",
        "#### Training Observations:\n",
        "- All models converged within 10 epochs\n",
        "- Early stopping prevented overfitting\n",
        "- BiLSTM required slightly more training time due to bidirectional processing\n",
        "- GPU acceleration (batch_size=512) provided excellent training speed\n",
        "\n",
        "#### Preprocessing Impact:\n",
        "- Text cleaning (removing HTML, special characters) improved model performance\n",
        "- Vocabulary size of 10,000 words captured sufficient information\n",
        "- Sequence length of 200 words balanced coverage and computational efficiency\n",
        "\n",
        "### Conclusions:\n",
        "\n",
        "1. **LSTM architectures significantly outperformed simple RNN** for sentiment analysis, validating their superior ability to handle long-term dependencies.\n",
        "\n",
        "2. **Bidirectional processing provides measurable improvements** by allowing the model to understand context from both past and future words.\n",
        "\n",
        "3. **Ensemble methods can marginally improve performance** by combining different model perspectives, though the improvement over BiLSTM alone was modest.\n",
        "\n",
        "4. **The dataset was well-suited for deep learning approaches**, with sufficient size (50,000 reviews) and balance to train robust models.\n",
        "\n",
        "### Recommendations:\n",
        "\n",
        "- For production deployment: Use **BiLSTM** or **Weighted Ensemble** for best accuracy\n",
        "- For faster inference: Use **LSTM** with minimal accuracy trade-off\n",
        "- For resource-constrained environments: Consider distilling the ensemble into a single model\n",
        "\n",
        "### Future Improvements:\n",
        "\n",
        "1. **Pre-trained embeddings**: Use GloVe or FastText for better word representations\n",
        "2. **Transformer models**: Implement BERT or RoBERTa for state-of-the-art performance\n",
        "3. **Attention mechanisms**: Add attention layers to focus on important words\n",
        "4. **Hyperparameter tuning**: Optimize embedding dimensions, hidden units, dropout rates\n",
        "5. **Data augmentation**: Use techniques like back-translation to increase training data\n"
      ]
    },
    {
      "cell_type": "code",
      "execution_count": null,
      "metadata": {
        "id": "Am8pdO9zw1UZ"
      },
      "outputs": [],
      "source": [
        "# Test the best model on custom reviews\n",
        "def predict_sentiment(text, model, tokenizer, max_len=MAX_LEN):\n",
        "    \"\"\"\n",
        "    Predict sentiment for a custom review.\n",
        "    \"\"\"\n",
        "    # Clean text\n",
        "    cleaned = clean_text(text)\n",
        "\n",
        "    # Convert to sequence\n",
        "    sequence = tokenizer.texts_to_sequences([cleaned])\n",
        "    padded = pad_sequences(sequence, maxlen=max_len, padding='post', truncating='post')\n",
        "\n",
        "    # Predict\n",
        "    prediction = model.predict(padded, verbose=0)[0][0]\n",
        "\n",
        "    sentiment = \"Positive\" if prediction > 0.5 else \"Negative\"\n",
        "    confidence = prediction if prediction > 0.5 else 1 - prediction\n",
        "\n",
        "    return sentiment, confidence\n",
        "\n",
        "# Test examples\n",
        "test_reviews = [\n",
        "    \"This movie was absolutely amazing! Best film I've seen this year.\",\n",
        "    \"Terrible waste of time. I want my money back.\",\n",
        "    \"It was okay, nothing special but not bad either.\"\n",
        "]\n",
        "\n",
        "print(\"\\n\" + \"=\"*70)\n",
        "print(\"TESTING ON CUSTOM REVIEWS\")\n",
        "print(\"=\"*70)\n",
        "\n",
        "for i, review in enumerate(test_reviews, 1):\n",
        "    print(f\"\\nReview {i}: {review}\")\n",
        "    sentiment, confidence = predict_sentiment(review, bilstm_model, tokenizer)\n",
        "    print(f\"Prediction: {sentiment} (Confidence: {confidence*100:.2f}%)\")\n",
        "    print(\"-\" * 70)"
      ]
    }
  ],
  "metadata": {
    "kernelspec": {
      "display_name": "Python 3",
      "name": "python3"
    },
    "language_info": {
      "codemirror_mode": {
        "name": "ipython",
        "version": 3
      },
      "file_extension": ".py",
      "mimetype": "text/x-python",
      "name": "python",
      "nbconvert_exporter": "python",
      "pygments_lexer": "ipython3",
      "version": "3.8.10"
    },
    "colab": {
      "provenance": [],
      "gpuType": "T4",
      "include_colab_link": true
    },
    "accelerator": "GPU"
  },
  "nbformat": 4,
  "nbformat_minor": 0
}